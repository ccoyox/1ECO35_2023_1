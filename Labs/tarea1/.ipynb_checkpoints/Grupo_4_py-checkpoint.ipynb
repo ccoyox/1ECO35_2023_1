{
 "cells": [
  {
   "cell_type": "markdown",
   "id": "5cb36d00",
   "metadata": {},
   "source": [
    "# Tarea 1\n",
    "### Integrantes: Lisbeth Ccoyo, Mishell Delgado, Steven Atoche"
   ]
  },
  {
   "cell_type": "code",
   "execution_count": 6,
   "id": "e9b41147",
   "metadata": {},
   "outputs": [
    {
     "name": "stdout",
     "output_type": "stream",
     "text": [
      "Facultad de Ciencias Sociales \\ 2023\n"
     ]
    }
   ],
   "source": [
    "## f-string\n",
    "a = 2023\n",
    "print(f\"Facultad de Ciencias Sociales \\ {a}\")"
   ]
  },
  {
   "cell_type": "code",
   "execution_count": 7,
   "id": "313773af",
   "metadata": {},
   "outputs": [],
   "source": [
    "#Lista\n",
    "lista = [\"Australia\", \"Brunei Darussalam\", \"Canadá\", \"Corea\", \"Chile\", \"China\", \"Estados Unidos\", \"Filipinas\", \"Hong Kong\", \"Indonesia\", \"Japón\", \"Malasia\"]"
   ]
  },
  {
   "cell_type": "code",
   "execution_count": 8,
   "id": "81baf14b",
   "metadata": {},
   "outputs": [
    {
     "data": {
      "text/plain": [
       "'Chile'"
      ]
     },
     "execution_count": 8,
     "metadata": {},
     "output_type": "execute_result"
    }
   ],
   "source": [
    "#Obteniendo lo pedido\n",
    "lista[4]"
   ]
  },
  {
   "cell_type": "code",
   "execution_count": 9,
   "id": "cf66c45a",
   "metadata": {},
   "outputs": [
    {
     "data": {
      "text/plain": [
       "'Malasia'"
      ]
     },
     "execution_count": 9,
     "metadata": {},
     "output_type": "execute_result"
    }
   ],
   "source": [
    "lista[11]"
   ]
  },
  {
   "cell_type": "code",
   "execution_count": 10,
   "id": "6c2b94d4",
   "metadata": {},
   "outputs": [
    {
     "data": {
      "text/plain": [
       "['China', 'Estados Unidos', 'Filipinas', 'Hong Kong', 'Indonesia']"
      ]
     },
     "execution_count": 10,
     "metadata": {},
     "output_type": "execute_result"
    }
   ],
   "source": [
    "lista[5:10]"
   ]
  },
  {
   "cell_type": "code",
   "execution_count": 2,
   "id": "942c5df7",
   "metadata": {},
   "outputs": [],
   "source": [
    "#creando el dicionario\n",
    "dictionary = {\"Número atómico\" : [1, 6, 47, 88], \"Masa atómica\" : [1.008, 12.011, 107.87, 226], \"Familia\" : ['No metal', 'No metal', 'Metal', 'Metal']}"
   ]
  },
  {
   "cell_type": "code",
   "execution_count": 3,
   "id": "fe7e0ee0",
   "metadata": {},
   "outputs": [
    {
     "data": {
      "text/plain": [
       "{'Número atómico': [1, 6, 47, 88],\n",
       " 'Masa atómica': [1.008, 12.011, 107.87, 226],\n",
       " 'Familia': ['No metal', 'No metal', 'Metal', 'Metal']}"
      ]
     },
     "execution_count": 3,
     "metadata": {},
     "output_type": "execute_result"
    }
   ],
   "source": [
    "dictionary"
   ]
  },
  {
   "cell_type": "code",
   "execution_count": 4,
   "id": "7bd17a7c",
   "metadata": {},
   "outputs": [
    {
     "data": {
      "text/plain": [
       "47"
      ]
     },
     "execution_count": 4,
     "metadata": {},
     "output_type": "execute_result"
    }
   ],
   "source": [
    "dictionary['Número atómico'][2]"
   ]
  }
 ],
 "metadata": {
  "kernelspec": {
   "display_name": "Python 3 (ipykernel)",
   "language": "python",
   "name": "python3"
  },
  "language_info": {
   "codemirror_mode": {
    "name": "ipython",
    "version": 3
   },
   "file_extension": ".py",
   "mimetype": "text/x-python",
   "name": "python",
   "nbconvert_exporter": "python",
   "pygments_lexer": "ipython3",
   "version": "3.10.9"
  }
 },
 "nbformat": 4,
 "nbformat_minor": 5
}
